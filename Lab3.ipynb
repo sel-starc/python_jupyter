{
 "cells": [
  {
   "cell_type": "code",
   "execution_count": 8,
   "id": "cd30b343",
   "metadata": {},
   "outputs": [
    {
     "name": "stdout",
     "output_type": "stream",
     "text": [
      "1024\n",
      "26\n",
      "10.0\n",
      "6\n",
      "6.666666666666667\n",
      "16\n",
      "44\n",
      "2\n"
     ]
    }
   ],
   "source": [
    "# OPERATORS\n",
    "\n",
    "# 1.arithmaetic operators\n",
    "print(1000+24)\n",
    "print(30-4)\n",
    "print(50/5)\n",
    "print(20//3)\n",
    "print(20/3)\n",
    "print(2**4)\n",
    "print(22*2)\n",
    "print(5%3)\n",
    "\n"
   ]
  },
  {
   "cell_type": "code",
   "execution_count": 28,
   "id": "3ac187e4",
   "metadata": {},
   "outputs": [
    {
     "name": "stdout",
     "output_type": "stream",
     "text": [
      "5\n",
      "8\n",
      "5\n",
      "15\n",
      "5.0\n",
      "2.0\n",
      "3\n",
      "and: 1\n",
      "103\n",
      "1003\n",
      "0\n",
      "-8192\n"
     ]
    }
   ],
   "source": [
    "# 2.assignment operators\n",
    "x=5\n",
    "print(x)\n",
    "x+=3\n",
    "print(x)\n",
    "x-=3\n",
    "print(x)\n",
    "x*=3\n",
    "print(x)\n",
    "x/=3\n",
    "print(x)\n",
    "x%=3\n",
    "print(x)\n",
    "x1=10\n",
    "x1//=3\n",
    "print(x1)\n",
    "x2=5\n",
    "x2&=3\n",
    "print(\"and:\",x2)\n",
    "x3=100\n",
    "x3|=3\n",
    "print(x3)\n",
    "x4=1000\n",
    "\n",
    "x4^=3\n",
    "print(x4)\n",
    "x5=19\n",
    "#  left right shift won't work for float\n",
    "x5>>=1024\n",
    "print(x5)\n",
    "x6=-1024\n",
    "x6<<=3\n",
    "print(x6)\n"
   ]
  },
  {
   "cell_type": "code",
   "execution_count": 34,
   "id": "09cd9c3c",
   "metadata": {},
   "outputs": [
    {
     "name": "stdout",
     "output_type": "stream",
     "text": [
      "&: 1\n",
      "True\n",
      "True\n",
      "False\n",
      "False\n",
      "True\n"
     ]
    }
   ],
   "source": [
    "x=0b101\n",
    "y=0b11\n",
    "print(\"&:\",x&y)\n",
    "# 3.comparison operator\n",
    "print(bool(3==3))\n",
    "print(2!=8)\n",
    "print(7>9)\n",
    "print(7<=4)\n",
    "print(2>=2)"
   ]
  },
  {
   "cell_type": "code",
   "execution_count": 40,
   "id": "1a6d5cc5",
   "metadata": {},
   "outputs": [
    {
     "name": "stdout",
     "output_type": "stream",
     "text": [
      "True\n",
      "False\n"
     ]
    }
   ],
   "source": [
    "# 4.logical operators\n",
    "print(x==101 or y==3)\n",
    "print(x==101 and y==3)"
   ]
  },
  {
   "cell_type": "code",
   "execution_count": 38,
   "id": "b09dccd3",
   "metadata": {},
   "outputs": [
    {
     "name": "stdout",
     "output_type": "stream",
     "text": [
      "True\n",
      "False\n"
     ]
    }
   ],
   "source": [
    "# 5.identity operators\n",
    "x=5\n",
    "y=3\n",
    "print(x is not y)\n",
    "print(x is y)"
   ]
  },
  {
   "cell_type": "code",
   "execution_count": 47,
   "id": "8fe5ee0b",
   "metadata": {},
   "outputs": [
    {
     "name": "stdout",
     "output_type": "stream",
     "text": [
      "True\n",
      "False\n"
     ]
    }
   ],
   "source": [
    "# 6.membership operators\n",
    "x=\"shweta h\"\n",
    "x1=[\"u\",\"hweta\",\"h\"]\n",
    "y=\"h\"\n",
    "print(y in x)\n",
    "print(y not in x)"
   ]
  },
  {
   "cell_type": "code",
   "execution_count": 48,
   "id": "658ddf16",
   "metadata": {},
   "outputs": [
    {
     "name": "stdout",
     "output_type": "stream",
     "text": [
      "10\n",
      "2\n"
     ]
    }
   ],
   "source": [
    "# 7.bitwise operator\n",
    "x=0b101\n",
    "y=1\n",
    "\n",
    "print(x<<y)\n",
    "print(x>>y)"
   ]
  },
  {
   "cell_type": "code",
   "execution_count": 56,
   "id": "88434907",
   "metadata": {},
   "outputs": [
    {
     "name": "stdout",
     "output_type": "stream",
     "text": [
      "['shweta', 'shivee', 'hv', 'meow', 616, 1378, 232, 8, True]\n",
      "meow   meow\n",
      "['mewo', 'mewo']\n",
      "9\n",
      "<class 'list'>\n"
     ]
    }
   ],
   "source": [
    "# list\n",
    "user_list=[\"shweta\",\"shivee\",\"hv\",\"meow\",616,1378,232,8,True]\n",
    "print(user_list)\n",
    "print(user_list[-6],\" \",user_list[3])\n",
    "l=[\"mewo\",\"mewo\"]\n",
    "print(l)\n",
    "print(len(user_list))\n",
    "print(type(user_list))"
   ]
  },
  {
   "cell_type": "code",
   "execution_count": 58,
   "id": "ee837299",
   "metadata": {},
   "outputs": [
    {
     "name": "stdout",
     "output_type": "stream",
     "text": [
      "enter base:3\n",
      "enter height:4\n",
      "area: 6.0\n"
     ]
    }
   ],
   "source": [
    "# 1.area of traingle\n",
    "b=int(input(\"enter base:\"))\n",
    "h=int(input(\"enter height:\"))\n",
    "area=1/2*b*h\n",
    "print(\"area:\",area)"
   ]
  },
  {
   "cell_type": "code",
   "execution_count": 59,
   "id": "9d2449ab",
   "metadata": {},
   "outputs": [
    {
     "name": "stdout",
     "output_type": "stream",
     "text": [
      "enter 1st no.:4\n",
      "enter 2nd no.:10\n",
      "gcd: 2\n"
     ]
    }
   ],
   "source": [
    "# 2.GCD of 2 no.\n",
    "def gcd(a,b):\n",
    "    if(b==0):\n",
    "        return a;\n",
    "    else:\n",
    "        return gcd(b,a%b)\n",
    "a=int(input(\"enter 1st no.:\"))\n",
    "b=int(input(\"enter 2nd no.:\"))\n",
    "print(\"gcd:\",gcd(a,b))"
   ]
  },
  {
   "cell_type": "code",
   "execution_count": 78,
   "id": "c7fdb1be",
   "metadata": {},
   "outputs": [
    {
     "name": "stdout",
     "output_type": "stream",
     "text": [
      "enter 1st no.:5\n",
      "enter 2nd no.:10\n",
      "lcm: 10\n"
     ]
    }
   ],
   "source": [
    "# 3.LCM of 2 no.\n",
    "def gcd(a,b):\n",
    "    if(b==0):\n",
    "        return a;\n",
    "    else:\n",
    "        return gcd(b,a%b)\n",
    "\n",
    "def lcm(a,b):\n",
    "    lcm=(a*b)//gcd(a,b)\n",
    "    return lcm\n",
    "\n",
    "a=int(input(\"enter 1st no.:\"))\n",
    "b=int(input(\"enter 2nd no.:\"))\n",
    "print(\"lcm:\",lcm(a,b))"
   ]
  },
  {
   "cell_type": "code",
   "execution_count": 61,
   "id": "197f8f3b",
   "metadata": {},
   "outputs": [
    {
     "name": "stdout",
     "output_type": "stream",
     "text": [
      "enter 1st no.:1\n",
      "enter 2nd no.:2\n",
      "enter 3rd no.:3\n",
      "sum: 6\n"
     ]
    }
   ],
   "source": [
    "# 4.sum of 3 no.\n",
    "a=int(input(\"enter 1st no.:\"))\n",
    "b=int(input(\"enter 2nd no.:\"))\n",
    "c=int(input(\"enter 3rd no.:\"))\n",
    "if a==b or b==c or a==c:\n",
    "    print(0)\n",
    "else:\n",
    "    print(\"sum:\",a+b+c)"
   ]
  },
  {
   "cell_type": "code",
   "execution_count": 64,
   "id": "49748e8a",
   "metadata": {},
   "outputs": [
    {
     "name": "stdout",
     "output_type": "stream",
     "text": [
      "enter 1st no.:1\n",
      "enter 2nd no.:2\n",
      "sum: 3\n"
     ]
    }
   ],
   "source": [
    "# 5.sum of 2 int\n",
    "a=int(input(\"enter 1st no.:\"))\n",
    "b=int(input(\"enter 2nd no.:\"))\n",
    "if (a+b)>15 and (a+b)<20:\n",
    "    print(\"sum:\",20)\n",
    "else:\n",
    "     print(\"sum:\",a+b)"
   ]
  },
  {
   "cell_type": "code",
   "execution_count": 70,
   "id": "d24696a7",
   "metadata": {},
   "outputs": [
    {
     "name": "stdout",
     "output_type": "stream",
     "text": [
      "enter name:sh\n",
      "enter age:20\n",
      "enter address:ranchi\n",
      "name: sh \n",
      " age: 20 \n",
      " address: ranchi \n",
      "\n"
     ]
    }
   ],
   "source": [
    "# 6.display info\n",
    "n=(input(\"enter name:\"))\n",
    "a=(input(\"enter age:\"))\n",
    "ad=(input(\"enter address:\"))\n",
    "print(\"name:\",n ,\"\\n\",\"age:\",a ,\"\\n\",\"address:\",ad ,\"\\n\")"
   ]
  },
  {
   "cell_type": "code",
   "execution_count": 4,
   "id": "8446da24",
   "metadata": {},
   "outputs": [
    {
     "name": "stdout",
     "output_type": "stream",
     "text": [
      "enter P:10000\n",
      "enter R:10\n",
      "enter T:5\n",
      "amount: 16105.100000000006\n"
     ]
    }
   ],
   "source": [
    "#7.SI\n",
    "p=int(input(\"enter P:\"))\n",
    "r=int(input(\"enter R:\"))\n",
    "t=int(input(\"enter T:\"))\n",
    "# A=p+(p*r*t)/100\n",
    "A = p*(1 + r/100)**t\n",
    "print(\"amount:\",A)\n"
   ]
  },
  {
   "cell_type": "code",
   "execution_count": 7,
   "id": "bc1a99bb",
   "metadata": {},
   "outputs": [
    {
     "name": "stdout",
     "output_type": "stream",
     "text": [
      "enter x1 :1\n",
      "enter  y1:1\n",
      "enter x2 :1\n",
      "enter y2:0\n",
      "distance: 1.0\n"
     ]
    }
   ],
   "source": [
    "# 8.Euclidean distance\n",
    "import math\n",
    "x1=int(input(\"enter x1 :\"))\n",
    "y1=int(input(\"enter  y1:\"))\n",
    "x2=int(input(\"enter x2 :\"))\n",
    "y2=int(input(\"enter y2:\"))\n",
    "dist=math.sqrt((x1-x2)**2 + (y1-y2)**2)\n",
    "print(\"distance:\",dist)"
   ]
  },
  {
   "cell_type": "code",
   "execution_count": 6,
   "id": "db53ca61",
   "metadata": {},
   "outputs": [
    {
     "name": "stdout",
     "output_type": "stream",
     "text": [
      "10\n",
      "12\n",
      "14\n",
      "16\n",
      "18\n",
      "20\n"
     ]
    }
   ],
   "source": [
    "# EVALUATION\n",
    "for i in range(10,21):\n",
    "    if(i%2==0):\n",
    "        print(i)"
   ]
  },
  {
   "cell_type": "code",
   "execution_count": 97,
   "id": "e56184f6",
   "metadata": {},
   "outputs": [
    {
     "name": "stdout",
     "output_type": "stream",
     "text": [
      "20\n",
      "25\n",
      "30\n",
      "\n",
      "\n",
      "30\n",
      "29\n",
      "28\n",
      "27\n",
      "26\n",
      "25\n",
      "24\n",
      "23\n",
      "22\n",
      "21\n",
      "20\n"
     ]
    }
   ],
   "source": [
    "#EVALUATION\n",
    "\n",
    "for i in range (20,31):\n",
    "    \n",
    "    if(((30+20)-i)%5==0):\n",
    "        print(i)\n",
    "print(\"\\n\")        \n",
    "for i in range(30,20-1,-1):\n",
    "    print(i)"
   ]
  },
  {
   "cell_type": "code",
   "execution_count": 93,
   "id": "7ce5fd4c",
   "metadata": {},
   "outputs": [
    {
     "name": "stdout",
     "output_type": "stream",
     "text": [
      "enter 4 friends names:shiv si h k\n",
      "['shiv', 'si', 'h', 'k']\n",
      "shiv\n",
      "si\n"
     ]
    }
   ],
   "source": [
    "# EVALUATION\n",
    "a=input(\"enter 4 friends names:\")\n",
    "a1=a.split(\" \")\n",
    "print(a1)\n",
    "for i in range (0,len(a1)):\n",
    "    if (\"s\" in a1[i] and \"i\" in a1[i]):\n",
    "        print(a1[i])\n"
   ]
  },
  {
   "cell_type": "code",
   "execution_count": null,
   "id": "38d44a66",
   "metadata": {},
   "outputs": [],
   "source": []
  },
  {
   "cell_type": "code",
   "execution_count": null,
   "id": "b76d34b0",
   "metadata": {},
   "outputs": [],
   "source": [
    "\n"
   ]
  },
  {
   "cell_type": "code",
   "execution_count": null,
   "id": "c83e0646",
   "metadata": {},
   "outputs": [],
   "source": []
  },
  {
   "cell_type": "code",
   "execution_count": null,
   "id": "361920cc",
   "metadata": {},
   "outputs": [],
   "source": []
  },
  {
   "cell_type": "code",
   "execution_count": null,
   "id": "bf7d8248",
   "metadata": {},
   "outputs": [],
   "source": []
  }
 ],
 "metadata": {
  "kernelspec": {
   "display_name": "Python 3 (ipykernel)",
   "language": "python",
   "name": "python3"
  },
  "language_info": {
   "codemirror_mode": {
    "name": "ipython",
    "version": 3
   },
   "file_extension": ".py",
   "mimetype": "text/x-python",
   "name": "python",
   "nbconvert_exporter": "python",
   "pygments_lexer": "ipython3",
   "version": "3.10.2"
  }
 },
 "nbformat": 4,
 "nbformat_minor": 5
}
