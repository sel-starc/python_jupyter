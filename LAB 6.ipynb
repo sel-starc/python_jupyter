{
 "cells": [
  {
   "cell_type": "code",
   "execution_count": 6,
   "id": "a1eb244c",
   "metadata": {},
   "outputs": [
    {
     "name": "stdout",
     "output_type": "stream",
     "text": [
      "enter words separated by comma:shweta,is,the,best\n",
      "['shweta', 'is', 'the', 'best']\n",
      "['best', 'is', 'shweta', 'the']\n"
     ]
    }
   ],
   "source": [
    "#q1 sort words\n",
    "s=input(\"enter words separated by comma:\")\n",
    "t=s.split(\",\")\n",
    "print(t)\n",
    "t.sort(key=str)\n",
    "print(t)"
   ]
  },
  {
   "cell_type": "code",
   "execution_count": 14,
   "id": "30617b19",
   "metadata": {},
   "outputs": [
    {
     "name": "stdout",
     "output_type": "stream",
     "text": [
      "enter a string:sshwertaa\n",
      "['a', 'a', 'e', 'h', 'r', 's', 's', 't', 'w']\n",
      " Display the List without using delimiters ehrstw\n",
      " Display the List without using delimiters as\n"
     ]
    }
   ],
   "source": [
    "#generate 2 strings, 1st with once 2nd with multiple\n",
    "s=input(\"enter a string:\")\n",
    "s1=s\n",
    "l=[]\n",
    "one=[]\n",
    "more=[]\n",
    "for i in range(0,len(s)):\n",
    "    l.append(s[i])\n",
    "l.sort(key=str)   \n",
    "print(l)\n",
    "for i in range(1,len(l)):\n",
    "    if l[i]!=l[i-1] :\n",
    "        one.append(l[i])\n",
    "    else:\n",
    "        more.append(l[i])\n",
    "Ret = (\"\".join(one))\n",
    "Ret1=(\"\".join(more)) \n",
    "print ( \" Display the List without using delimiters\", Ret) \n",
    "print ( \" Display the List without using delimiters\", Ret1) \n",
    "    \n",
    "    \n",
    "    \n",
    "    "
   ]
  },
  {
   "cell_type": "code",
   "execution_count": 15,
   "id": "adf562cb",
   "metadata": {},
   "outputs": [
    {
     "name": "stdout",
     "output_type": "stream",
     "text": [
      "7.0\n"
     ]
    }
   ],
   "source": [
    "# q3\n",
    "MAX_CHAR = 26; # assuming lower case only\n",
    "\n",
    "def countSubstringWithEqualEnds(s):\n",
    "\tresult = 0;\n",
    "\tn = len(s);\n",
    "\tcount = [0]*MAX_CHAR;\n",
    "\tfor i in range(n):\n",
    "\t\tcount[ord(s[i])-ord('a')]+=1;\n",
    "\tfor i in range(MAX_CHAR):\n",
    "\t\tresult += (count[i]*(count[i]+1)/2);\n",
    "\n",
    "\treturn result;\n",
    "\n",
    "# Driver code\n",
    "s = \"abcab\";\n",
    "print(countSubstringWithEqualEnds(s));\n",
    "\n"
   ]
  },
  {
   "cell_type": "code",
   "execution_count": 16,
   "id": "4b3696b0",
   "metadata": {},
   "outputs": [
    {
     "name": "stdout",
     "output_type": "stream",
     "text": [
      "enter the string:sswetee\n",
      "wte\n"
     ]
    }
   ],
   "source": [
    "# q6 remove repeated consecutive characters\n",
    "def remove_duplicates(str):\n",
    "  integer=0\n",
    "  while integer<len(str)-1:\n",
    "      if str[integer]==str[integer+1]:\n",
    "          str=str.replace(str[integer],\" \",2)\n",
    "      integer=integer+1    \n",
    "  str=str.replace(\" \",\"\")\n",
    "  print(str)\n",
    "s=input(\"enter the string:\")\n",
    "remove_duplicates(s)\n",
    "\n",
    "    \n",
    "    "
   ]
  },
  {
   "cell_type": "code",
   "execution_count": 19,
   "id": "34f76463",
   "metadata": {},
   "outputs": [
    {
     "name": "stdout",
     "output_type": "stream",
     "text": [
      "somename\n"
     ]
    }
   ],
   "source": [
    "# q5\n",
    "email = \"somename@somehost.com\"\n",
    "\n",
    "name, _, _ = email.partition(\"@\")  # returns before @, @, and after @\n",
    "if \".\" in name:\n",
    "    splitname = name.split(\".\")        # splits on .\n",
    "else:\n",
    "    splitname=name\n",
    "    \n",
    "\n",
    "print(splitname)"
   ]
  },
  {
   "cell_type": "code",
   "execution_count": 20,
   "id": "04a79a5c",
   "metadata": {},
   "outputs": [
    {
     "name": "stdout",
     "output_type": "stream",
     "text": [
      "Original Email: john@example.com\n",
      "Extract the name from the said Email address:\n",
      "john\n",
      "\n",
      "Original Email: john.smith@example.com\n",
      "Extract the name from the said Email address:\n",
      "johnsmith\n",
      "\n",
      "Original Email: disposable.style.email.with+symbol@example.com@example.com\n",
      "Extract the name from the said Email address:\n",
      "disposablestyleemailwithsymbol\n",
      "\n",
      "Original Email: fully-qualified-domain@example.com\n",
      "Extract the name from the said Email address:\n",
      "fullyqualifieddomain\n"
     ]
    }
   ],
   "source": [
    "#5\n",
    "def test(email_address):\n",
    "\tr = email_address.index(\"@\")\n",
    "\treturn \"\".join(l for l in email_address[:r] if l.isalpha())\n",
    "\n",
    "email_address = \"john@example.com\"\n",
    "print(\"Original Email:\", email_address)\n",
    "print(\"Extract the name from the said Email address:\")\n",
    "print(test(email_address))\n",
    "email_address = \"john.smith@example.com\"\n",
    "print(\"\\nOriginal Email:\", email_address)\n",
    "print(\"Extract the name from the said Email address:\")\n",
    "print(test(email_address))\n",
    "email_address = \"disposable.style.email.with+symbol@example.com@example.com\"\n",
    "print(\"\\nOriginal Email:\", email_address)\n",
    "print(\"Extract the name from the said Email address:\")\n",
    "print(test(email_address))\n",
    "email_address = \"fully-qualified-domain@example.com\"\n",
    "print(\"\\nOriginal Email:\", email_address)\n",
    "print(\"Extract the name from the said Email address:\")\n",
    "print(test(email_address)) "
   ]
  },
  {
   "cell_type": "code",
   "execution_count": 21,
   "id": "b8ec0d2e",
   "metadata": {},
   "outputs": [
    {
     "name": "stdout",
     "output_type": "stream",
     "text": [
      "The similarity between 2 strings is : 0.38461538461538464\n"
     ]
    }
   ],
   "source": [
    "# q4\n",
    "\n",
    "# similarity between strings\n",
    "\n",
    "def similar(str1, str2):\n",
    "\tstr1 = str1 + ' ' * (len(str2) - len(str1))\n",
    "\tstr2 = str2 + ' ' * (len(str1) - len(str2))\n",
    "\treturn sum(1 if i == j else 0\n",
    "\t\t\tfor i, j in zip(str1, str2)) / float(len(str1))\n",
    "\n",
    "# Initializing strings\n",
    "test_string1 = 'Geeksforgeeks'\n",
    "test_string2 = 'Geeks4geeks'\n",
    "\n",
    "\n",
    "res = similar(test_string1, test_string2)\n",
    "\n",
    "print (\"The similarity between 2 strings is : \" + str(res))\n"
   ]
  },
  {
   "cell_type": "code",
   "execution_count": 22,
   "id": "c025580e",
   "metadata": {},
   "outputs": [
    {
     "name": "stdout",
     "output_type": "stream",
     "text": [
      "enter string1:sgjjg\n",
      "enter string2:kjhgf\n",
      "0.8\n"
     ]
    }
   ],
   "source": [
    "# q4 similarity between 2 strings\n",
    "s1=input(\"enter string1:\")\n",
    "s2=input(\"enter string2:\")\n",
    "c=0\n",
    "for i in range(0,len(s1)):\n",
    "    if s1[i] in s2:\n",
    "        c=c+1\n",
    "print(c/len(s1))        \n",
    "        \n",
    "    \n"
   ]
  },
  {
   "cell_type": "code",
   "execution_count": 45,
   "id": "6bc4bfca",
   "metadata": {},
   "outputs": [
    {
     "name": "stdout",
     "output_type": "stream",
     "text": [
      "enter the string:green\n",
      "    n\n"
     ]
    }
   ],
   "source": [
    "# q6 remove consecutive\n",
    "s=input(\"enter the string:\")\n",
    "l=[]\n",
    "for i in range (0,len(s)):\n",
    "    l.append(s[i])\n",
    "    \n",
    "for i in range(1,len(s)):\n",
    "#     key=l[i-1]\n",
    "#     k=0\n",
    "#     if key==l[i]:\n",
    "     s=s.replace(s[i-1],\" \",1)\n",
    "    \n",
    "st=\"\".join(l)\n",
    "print(s)\n",
    "        \n",
    "        "
   ]
  },
  {
   "cell_type": "code",
   "execution_count": null,
   "id": "61a7322e",
   "metadata": {},
   "outputs": [],
   "source": []
  }
 ],
 "metadata": {
  "kernelspec": {
   "display_name": "Python 3 (ipykernel)",
   "language": "python",
   "name": "python3"
  },
  "language_info": {
   "codemirror_mode": {
    "name": "ipython",
    "version": 3
   },
   "file_extension": ".py",
   "mimetype": "text/x-python",
   "name": "python",
   "nbconvert_exporter": "python",
   "pygments_lexer": "ipython3",
   "version": "3.10.2"
  }
 },
 "nbformat": 4,
 "nbformat_minor": 5
}
