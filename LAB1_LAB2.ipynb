{
 "cells": [
  {
   "cell_type": "code",
   "execution_count": 1,
   "id": "ed42f108",
   "metadata": {},
   "outputs": [],
   "source": [
    "import os"
   ]
  },
  {
   "cell_type": "code",
   "execution_count": 3,
   "id": "a076f44c",
   "metadata": {},
   "outputs": [
    {
     "name": "stdout",
     "output_type": "stream",
     "text": [
      "Hello world!!\n"
     ]
    }
   ],
   "source": [
    "print(\"Hello world!!\")"
   ]
  },
  {
   "cell_type": "code",
   "execution_count": 7,
   "id": "e5b8f672",
   "metadata": {},
   "outputs": [
    {
     "name": "stdout",
     "output_type": "stream",
     "text": [
      "Hello World!!\n",
      "Hello World!!\n",
      "Hello World!!\n",
      "Hello World!!\n",
      "Hello World!!\n",
      "\n",
      "YO!!\n"
     ]
    }
   ],
   "source": [
    "for i in range(5):\n",
    "    print('''Hello World!!''')\n",
    "print('''\\nYO!!''')    "
   ]
  },
  {
   "cell_type": "code",
   "execution_count": 9,
   "id": "0d160c01",
   "metadata": {},
   "outputs": [
    {
     "name": "stdout",
     "output_type": "stream",
     "text": [
      "['.ipynb_checkpoints', 'LAB1.ipynb']\n"
     ]
    }
   ],
   "source": [
    "print(os.listdir())"
   ]
  },
  {
   "cell_type": "code",
   "execution_count": 11,
   "id": "e368daa1",
   "metadata": {},
   "outputs": [
    {
     "name": "stdout",
     "output_type": "stream",
     "text": [
      "8\n",
      "9\n"
     ]
    }
   ],
   "source": [
    "A=9\n",
    "a=8\n",
    "print(a)\n",
    "print(A)"
   ]
  },
  {
   "cell_type": "code",
   "execution_count": 19,
   "id": "ea9bcf75",
   "metadata": {},
   "outputs": [
    {
     "name": "stdout",
     "output_type": "stream",
     "text": [
      "enter the no. you want to calculate the factorial of:5\n",
      "factorial: 120\n",
      "<class 'int'>\n"
     ]
    }
   ],
   "source": [
    "#q1 find factorial\n",
    "fact=1\n",
    "s=input(\"enter the no. you want to calculate the factorial of:\")\n",
    "s=int(s)\n",
    "for i in range(1,s+1):\n",
    "    fact*=i\n",
    "print(\"factorial:\",fact)   \n",
    "print(type(fact))"
   ]
  },
  {
   "cell_type": "code",
   "execution_count": 22,
   "id": "566f627b",
   "metadata": {},
   "outputs": [
    {
     "name": "stdout",
     "output_type": "stream",
     "text": [
      "fact greater\n"
     ]
    }
   ],
   "source": [
    "#if cond:\n",
    "if s<fact :\n",
    "    print(\"fact greater\")"
   ]
  },
  {
   "cell_type": "code",
   "execution_count": 27,
   "id": "3036be53",
   "metadata": {},
   "outputs": [
    {
     "name": "stdout",
     "output_type": "stream",
     "text": [
      "9 meow\n",
      "<class 'int'> <class 'str'>\n",
      "shweta shivee hv\n"
     ]
    }
   ],
   "source": [
    "r=9\n",
    "t=\"meow\"\n",
    "print(r,t)\n",
    "print(type(r),type(t))\n",
    "x,y,z=\"shweta\",\"shivee\",\"hv\"\n",
    "print(x,y,z)"
   ]
  },
  {
   "cell_type": "code",
   "execution_count": 29,
   "id": "84763409",
   "metadata": {},
   "outputs": [
    {
     "name": "stdout",
     "output_type": "stream",
     "text": [
      "meow meow meow\n"
     ]
    }
   ],
   "source": [
    "x=y=z=\"meow\"\n",
    "print(x,y,z)"
   ]
  },
  {
   "cell_type": "code",
   "execution_count": 31,
   "id": "e8f32d69",
   "metadata": {},
   "outputs": [
    {
     "name": "stdout",
     "output_type": "stream",
     "text": [
      "sr ss hs\n"
     ]
    }
   ],
   "source": [
    "frnds=[\"sr\",\"ss\",\"hs\"]\n",
    "f1,f2,f3=frnds\n",
    "print(f1,f2,f3)"
   ]
  },
  {
   "cell_type": "code",
   "execution_count": 34,
   "id": "c8e8b9c1",
   "metadata": {},
   "outputs": [
    {
     "name": "stdout",
     "output_type": "stream",
     "text": [
      "shweta is fantastic\n",
      "shweta is awesome\n"
     ]
    }
   ],
   "source": [
    "q=\"awesome\"\n",
    "\n",
    "def myfunc():\n",
    "    q=\"fantastic\"\n",
    "    print(\"shweta is \" + q)\n",
    "    \n",
    "myfunc()\n",
    "print(\"shweta is \" + q)"
   ]
  },
  {
   "cell_type": "code",
   "execution_count": 38,
   "id": "e0cb9df5",
   "metadata": {},
   "outputs": [
    {
     "name": "stdout",
     "output_type": "stream",
     "text": [
      "hello world\n"
     ]
    }
   ],
   "source": [
    "#data types\n",
    "x=\"hello world\"\n",
    "print(x)\n",
    "x=20\n",
    "x=20.5\n",
    "#x=sr616\n",
    "x=[\"shweta\",\"shivangini\"]\n",
    "x=(\"shweta\",\"shivangini\")\n",
    "x=range(6)\n",
    "x={\"shweta\":\"raj\"}\n",
    "x={\"shweta\",\"raj\",616}\n",
    "x=({\"shweta\",\"raj\",616})\n",
    "y=True\n",
    "y=b\"sr\"\n",
    "y=bytearray(5)\n",
    "y=memoryview(bytes(5))\n",
    "y=None\n",
    "\n",
    "\n"
   ]
  },
  {
   "cell_type": "code",
   "execution_count": 43,
   "id": "37c910e2",
   "metadata": {},
   "outputs": [
    {
     "name": "stdout",
     "output_type": "stream",
     "text": [
      "enter the year:445\n",
      "445  is not leap year\n"
     ]
    }
   ],
   "source": [
    "#q2 leap year or not\n",
    "year=input(\"enter the year:\")\n",
    "year=int(year)\n",
    "if(year%400==0):\n",
    "    print(year ,\" is leap year\")\n",
    "elif(year%100==0):\n",
    "    print(year ,\" is not leap year\")\n",
    "elif(year %4==0):\n",
    "    print(year ,\" is leap year\")\n",
    "else:\n",
    "    print(year ,\" is not leap year\")"
   ]
  },
  {
   "cell_type": "code",
   "execution_count": 44,
   "id": "2709b360",
   "metadata": {},
   "outputs": [
    {
     "name": "stdout",
     "output_type": "stream",
     "text": [
      "enter the temperature in fahrenheit:32\n",
      "temp in celcius 0.0\n"
     ]
    }
   ],
   "source": [
    "#q3 fahrenheit and celcius\n",
    "temp=input(\"enter the temperature in fahrenheit:\")\n",
    "temp=float(temp)\n",
    "tempc=((temp-32)*5)/9\n",
    "print(\"temp in celcius\",tempc)\n",
    "\n",
    "\n"
   ]
  },
  {
   "cell_type": "code",
   "execution_count": 2,
   "id": "46bce348",
   "metadata": {},
   "outputs": [
    {
     "name": "stdout",
     "output_type": "stream",
     "text": [
      "enter the sides1:3\n",
      "enter the sides1:4\n",
      "enter the sides3:5\n",
      "scalene\n",
      "area: 6.0\n"
     ]
    }
   ],
   "source": [
    "#q4 qnd q5 type of triangle\n",
    "a=input(\"enter the sides1:\")\n",
    "b=input(\"enter the sides1:\")\n",
    "c=input(\"enter the sides3:\")\n",
    "if(a==b and b==c ):\n",
    "    print(\"equilateral\")\n",
    "elif(a==b or b==c or a==c) :\n",
    "     print(\"isoceles\")\n",
    "else:\n",
    "     print(\"scalene\")\n",
    "        \n",
    "import math        \n",
    "a=int(a) \n",
    "b=int(b)\n",
    "c=int(c)\n",
    "s=(a+b+c)/2\n",
    "area=math.sqrt(s*(s-a)*(s-b)*(s-c))\n",
    "print(\"area:\",area)\n",
    "        \n",
    "        \n",
    "    "
   ]
  },
  {
   "cell_type": "code",
   "execution_count": null,
   "id": "d657765a",
   "metadata": {},
   "outputs": [],
   "source": [
    "#q6 roots of quadratic equation\n"
   ]
  },
  {
   "cell_type": "code",
   "execution_count": 62,
   "id": "f66dca4e",
   "metadata": {},
   "outputs": [
    {
     "name": "stdout",
     "output_type": "stream",
     "text": [
      "enter the coefficient1 :1\n",
      "enter the coefficient2 :2\n",
      "enter the coefficient3 :1\n",
      "roots: -1.0 -1.0\n"
     ]
    }
   ],
   "source": [
    "a=input(\"enter the coefficient1 :\")\n",
    "b=input(\"enter the coefficient2 :\")\n",
    "c=input(\"enter the coefficient3 :\")\n",
    "a=int(a) \n",
    "b=int(b)\n",
    "c=int(c)\n",
    "import math\n",
    "d=math.sqrt((b*b) - (4*a*c))\n",
    "x1=(-1*b + d)/2*a\n",
    "x2=(-1*b - d)/2*a\n",
    "print(\"roots:\",x1,x2)"
   ]
  },
  {
   "cell_type": "code",
   "execution_count": 7,
   "id": "ef950b3b",
   "metadata": {},
   "outputs": [
    {
     "name": "stdout",
     "output_type": "stream",
     "text": [
      "enter the no. :121\n",
      "121 is palindrome\n"
     ]
    }
   ],
   "source": [
    "#q7 palindrome no\n",
    "a=int(input(\"enter the no. :\"))\n",
    "temp=a\n",
    "rev=0\n",
    "while (a>0):\n",
    "    d=a%10\n",
    "    rev=rev*10+d\n",
    "    a=a//10\n",
    "if temp==rev:\n",
    "    print(temp,\"is palindrome\")\n",
    "else:\n",
    "    print(rev)\n",
    "    print(temp,\"is not palindrome\")\n",
    "            "
   ]
  },
  {
   "cell_type": "code",
   "execution_count": 16,
   "id": "9427e5d2",
   "metadata": {},
   "outputs": [
    {
     "name": "stdout",
     "output_type": "stream",
     "text": [
      "enter the no. :7\n",
      "1\n",
      "7 is not perfect\n"
     ]
    }
   ],
   "source": [
    "#q8 perfect no\n",
    "a=int(input(\"enter the no. :\"))\n",
    "temp=a\n",
    "rev=0\n",
    "for i in range(1,a):\n",
    "    if a%i==0:\n",
    "        rev=rev+i\n",
    "        \n",
    "if temp==rev:\n",
    "    print(temp,\"is perfect\")\n",
    "else:\n",
    "    print(rev)\n",
    "    print(temp,\"is not perfect\")\n",
    "            "
   ]
  },
  {
   "cell_type": "code",
   "execution_count": 18,
   "id": "eb9a03fe",
   "metadata": {},
   "outputs": [
    {
     "name": "stdout",
     "output_type": "stream",
     "text": [
      "enter the no. :79\n",
      "1072\n",
      "79 is not armstrong\n"
     ]
    }
   ],
   "source": [
    "#q9 armstrong no.\n",
    "a=int(input(\"enter the no. :\"))\n",
    "temp=a\n",
    "rev=0\n",
    "while (a>0):\n",
    "    d=a%10\n",
    "    rev=rev+d*d*d\n",
    "    a=a//10\n",
    "if temp==rev:\n",
    "    print(temp,\"is armstrong\")\n",
    "else:\n",
    "    print(rev)\n",
    "    print(temp,\"is not armstrong\")\n",
    "            "
   ]
  },
  {
   "cell_type": "code",
   "execution_count": 45,
   "id": "2a79d154",
   "metadata": {},
   "outputs": [
    {
     "name": "stdout",
     "output_type": "stream",
     "text": [
      "enter the string:shwetaaaa\n",
      "s  frequency:  1\n",
      "h  frequency:  1\n",
      "w  frequency:  1\n",
      "e  frequency:  1\n",
      "t  frequency:  1\n",
      "a  frequency:  4\n"
     ]
    }
   ],
   "source": [
    "#Q1 no of characters(character frequency) in a string\n",
    "a=input(\"enter the string:\")\n",
    "l=len(a)\n",
    "for i in range(0,l):\n",
    "    c=1\n",
    "    for j in range(i+1,l):\n",
    "        if(a[i]==a[j]):\n",
    "            if a[j]!=\"0\":\n",
    "                c=c+1\n",
    "            \n",
    "            \n",
    "                \n",
    "    if a[i]!=\"0\":    \n",
    "        print(a[i],\" frequency: \",c) \n",
    "    a=a.replace(a[i], \"0\")\n"
   ]
  },
  {
   "cell_type": "code",
   "execution_count": 46,
   "id": "eeb54e65",
   "metadata": {},
   "outputs": [
    {
     "name": "stdout",
     "output_type": "stream",
     "text": [
      "shweetti\n"
     ]
    }
   ],
   "source": [
    "a1=\"shweettaa\"\n",
    "a1=a1.replace(\"aa\",\"i\")   \n",
    "print(a1)"
   ]
  },
  {
   "cell_type": "code",
   "execution_count": 30,
   "id": "ae83d37b",
   "metadata": {},
   "outputs": [
    {
     "name": "stdout",
     "output_type": "stream",
     "text": [
      "jello\n"
     ]
    }
   ],
   "source": [
    "s=\"hello\"\n",
    "print(s.replace(\"h\",\"j\"))"
   ]
  },
  {
   "cell_type": "code",
   "execution_count": 53,
   "id": "56b64700",
   "metadata": {},
   "outputs": [
    {
     "name": "stdout",
     "output_type": "stream",
     "text": [
      "plz enter the string:shweta\n",
      "shta\n"
     ]
    }
   ],
   "source": [
    "# Q2 first 2 and last 2\n",
    "def two(aa):\n",
    "    \n",
    "    if len(aa)<2 :\n",
    "        return \"\"\n",
    "    else:\n",
    "        aa=aa[0:2]+aa[len(aa)-2:len(aa)]\n",
    "        return aa\n",
    "aa=input(\"plz enter the string:\")    \n",
    "ans=two(aa)\n",
    "print(ans)"
   ]
  },
  {
   "cell_type": "code",
   "execution_count": 3,
   "id": "49b56f1e",
   "metadata": {},
   "outputs": [
    {
     "name": "stdout",
     "output_type": "stream",
     "text": [
      "enter the string:shwetssass\n",
      "shwet$$a$$\n"
     ]
    }
   ],
   "source": [
    "# Q3 1st occurence $ except 1st char\n",
    "a=input(\"enter the string:\")\n",
    "l=len(a)\n",
    "f=a[0]\n",
    "# for i in range(1,l):\n",
    "a=a.replace(f,\"$\")\n",
    "    \n",
    "a=a.replace(\"$\",f,1)\n",
    "    \n",
    "print(a)        \n",
    "    \n",
    "    \n",
    "\n"
   ]
  },
  {
   "cell_type": "code",
   "execution_count": 110,
   "id": "05c2546a",
   "metadata": {},
   "outputs": [
    {
     "name": "stdout",
     "output_type": "stream",
     "text": [
      "Enter elements of a list separated by space: ss hhhhh jk\n",
      "\n",
      "\n",
      "5\n",
      "hhhhh\n"
     ]
    }
   ],
   "source": [
    "#Q7 longest word in the list\n",
    "# x = [\"apple\", \"banana\", \"cherry\"]\n",
    "number_list = []\n",
    "def longest_word(user_string):\n",
    "    \n",
    "    \n",
    "    for i in range(0,len(user_list)):\n",
    "        item = len(user_list[i])\n",
    "        number_list.append(item)\n",
    "    m=max(number_list)\n",
    "    return m\n",
    "    \n",
    "input_string = input('Enter elements of a list separated by space: ')\n",
    "print(\"\\n\") \n",
    "user_list = input_string.split()\n",
    "\n",
    "m=longest_word(user_list)\n",
    "print(m)\n",
    "for i in range (0,len(number_list)):\n",
    "    if number_list[i]==m:\n",
    "        print(user_list[i])\n",
    "        \n",
    "\n",
    "\n",
    "# shortcut\n",
    "# print(max(input_string))"
   ]
  },
  {
   "cell_type": "code",
   "execution_count": 104,
   "id": "f53007c4",
   "metadata": {},
   "outputs": [
    {
     "name": "stdout",
     "output_type": "stream",
     "text": [
      "string:i no not ugcvgh poor\n",
      "not: 5\n",
      "poor: 16\n",
      "i no not ugcvgh poor\n",
      "i no  good \n"
     ]
    }
   ],
   "source": [
    "# Q6 \"not...poor\"=\"good\"\n",
    "a=input(\"string:\")\n",
    "l=len(a)\n",
    "n=\"not\"\n",
    "p=\"poor\"\n",
    "# user_list = a.split()\n",
    "# for i in range (0,len(user_list)):\n",
    "# for i in range (0,l-3):\n",
    "#     if n==a[i:i+4]:\n",
    "# #         if n==user_list[i]:\n",
    "#         ni=int(i)\n",
    "#         print (a[i:i+5])\n",
    "ni = a.find(n)  \n",
    "pi = a.find(p)  \n",
    "  \n",
    "print(\"not:\",ni)\n",
    "#     break;\n",
    "# for j in range (0,l-4):\n",
    "\n",
    "#     if p==a[j:j+5]:\n",
    "#         pi=int(j)\n",
    "#         print (a[j:j+5])\n",
    "print(\"poor:\",pi)\n",
    "        \n",
    "#     break;\n",
    "# print(user_list)\n",
    "# for i in range (ni,pi-1):\n",
    "#     print(user_list[i])\n",
    "#     user_list.pop(i)        \n",
    "# user_list=user_list.insert(ni,\"good\")\n",
    "\n",
    "\n",
    "# print(user_list)    \n",
    "print (a)    \n",
    "if ni<pi:\n",
    "    a=a.replace(a[ni:(pi+4)],\" good \")\n",
    "print (a)    \n",
    "        \n",
    "        \n",
    "        \n"
   ]
  },
  {
   "cell_type": "code",
   "execution_count": 105,
   "id": "baabdae9",
   "metadata": {},
   "outputs": [
    {
     "name": "stdout",
     "output_type": "stream",
     "text": [
      "INPUT THE STRING :dfghj\n",
      "dfhj\n"
     ]
    }
   ],
   "source": [
    "#QUES2\n",
    "txt=input(\"INPUT THE STRING :\")\n",
    "a=len(txt)\n",
    "if a<2:\n",
    "    print(\"\")\n",
    "else:\n",
    "    print(txt[0:2]+txt[-2:])"
   ]
  },
  {
   "cell_type": "code",
   "execution_count": 5,
   "id": "7363a21b",
   "metadata": {},
   "outputs": [
    {
     "name": "stdout",
     "output_type": "stream",
     "text": [
      "INPUT 2 STRING :shshweta raj\n",
      "['shshweta', 'raj']\n",
      "rashwetashj\n"
     ]
    }
   ],
   "source": [
    "#ques4\n",
    "txt=input(\"INPUT 2 STRING :\")\n",
    "words = txt.split(' ') \n",
    "print(words) \n",
    "s1=(words[0])[0:2]\n",
    "s2=(words[1])[0:2]\n",
    "words[0]=words[0].replace(s1,s2,1)\n",
    "words[1]=words[1].replace(s2,s1,1)\n",
    "print(words[0]+words[1])\n",
    "# sentence = ' '.join(reversed(words))\n",
    "# print(sentence.replace(\" \",\"\"))"
   ]
  },
  {
   "cell_type": "code",
   "execution_count": 107,
   "id": "98fb3934",
   "metadata": {},
   "outputs": [
    {
     "name": "stdout",
     "output_type": "stream",
     "text": [
      "INPUT THE STRING :fghjk\n",
      "fghjking\n"
     ]
    }
   ],
   "source": [
    "#ques5\n",
    "txt=input(\"INPUT THE STRING :\")\n",
    "a=len(txt)\n",
    "a=int(a)\n",
    "if a<3:\n",
    "    print(txt)\n",
    "elif (txt[-1]=='g' and txt[-2]=='n' and txt[-3]=='i'):\n",
    "                         print(txt+'ly')\n",
    "else:\n",
    "                          print(txt+'ing')"
   ]
  },
  {
   "cell_type": "code",
   "execution_count": 6,
   "id": "1fe844ea",
   "metadata": {},
   "outputs": [
    {
     "name": "stdout",
     "output_type": "stream",
     "text": [
      "enter string:shweta raj 616\n",
      "['shweta', 'raj', '616']\n"
     ]
    }
   ],
   "source": [
    "l=input(\"enter string:\")\n",
    "l1=l.split(\" \")\n",
    "print(l1)\n"
   ]
  },
  {
   "cell_type": "code",
   "execution_count": null,
   "id": "976b0840",
   "metadata": {},
   "outputs": [],
   "source": []
  }
 ],
 "metadata": {
  "kernelspec": {
   "display_name": "Python 3 (ipykernel)",
   "language": "python",
   "name": "python3"
  },
  "language_info": {
   "codemirror_mode": {
    "name": "ipython",
    "version": 3
   },
   "file_extension": ".py",
   "mimetype": "text/x-python",
   "name": "python",
   "nbconvert_exporter": "python",
   "pygments_lexer": "ipython3",
   "version": "3.10.2"
  }
 },
 "nbformat": 4,
 "nbformat_minor": 5
}
