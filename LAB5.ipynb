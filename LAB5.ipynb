{
 "cells": [
  {
   "cell_type": "code",
   "execution_count": 6,
   "id": "cb0601ea",
   "metadata": {},
   "outputs": [
    {
     "name": "stdout",
     "output_type": "stream",
     "text": [
      "no of characters in file: 287\n",
      "<_io.TextIOWrapper name='karma.txt' mode='r' encoding='cp1252'>\n"
     ]
    }
   ],
   "source": [
    "# Q1.count no. of characters in text file\n",
    "file1 = open(\"karma.txt\", \"r\")\n",
    "\n",
    "print(\"no of characters in file:\",len(file1.read()))\n",
    "print(file1)\n",
    "file1.close()"
   ]
  },
  {
   "cell_type": "code",
   "execution_count": 31,
   "id": "14ce3d3b",
   "metadata": {},
   "outputs": [
    {
     "name": "stdout",
     "output_type": "stream",
     "text": [
      "plz enter the positive no.:123\n",
      "1\n",
      "3\n",
      "6\n",
      "1\n",
      "2\n",
      "9\n",
      "1\n",
      "1\n",
      "9\n",
      "9\n",
      "18\n",
      "8\n",
      "9\n",
      "7\n",
      "9\n",
      "6\n",
      "9\n",
      "5\n",
      "9\n",
      "4\n",
      "9\n",
      "3\n",
      "9\n",
      "2\n",
      "9\n",
      "1\n",
      "9\n",
      "expected output: 9\n"
     ]
    }
   ],
   "source": [
    "# q2.positive no. subtract\n",
    "p=(input(\"plz enter the positive no.:\"))\n",
    "s=0\n",
    "temp1=int(p)\n",
    "# temp1>0\n",
    "while(len(p)>1):\n",
    "    s=0\n",
    "    p=str(p)\n",
    "    for i in range(0,len (p)):\n",
    "        s=s+int(p[i])\n",
    "        print(s)\n",
    "    p=str(int(p)-s)\n",
    "    temp1=int(p)\n",
    "        \n",
    "print(\"expected output:\",p)    \n",
    "    \n",
    "\n"
   ]
  },
  {
   "cell_type": "code",
   "execution_count": 22,
   "id": "e20bf9db",
   "metadata": {},
   "outputs": [
    {
     "name": "stdout",
     "output_type": "stream",
     "text": [
      "plz enter the positive no.:26\n",
      "even divisor: [2]  odd divisor: [1, 13]\n"
     ]
    }
   ],
   "source": [
    "# q3.even or odd divisor\n",
    "p=int(input(\"plz enter the positive no.:\"))\n",
    "s=0\n",
    "odd=[]\n",
    "even=[]\n",
    "# temp1=int(p)\n",
    "for i in range(1,p):\n",
    "    if p%i==0:\n",
    "        if i%2==0:\n",
    "            even.append(i)\n",
    "        else:\n",
    "            odd.append(i)\n",
    "print(\"even divisor:\",even,\" odd divisor:\",odd)            "
   ]
  },
  {
   "cell_type": "code",
   "execution_count": 4,
   "id": "106736fd",
   "metadata": {},
   "outputs": [
    {
     "name": "stdout",
     "output_type": "stream",
     "text": [
      "plz enter the mobile no.:123\n",
      "['9123456780']\n"
     ]
    }
   ],
   "source": [
    "# q4.missing digits from a mobile no\n",
    "\n",
    "\n",
    "m=\"9123456780\"\n",
    "l=m.split()\n",
    "p=(input(\"plz enter the mobile no.:\"))\n",
    "pl=p.split()\n",
    "s=0\n",
    "ans=[]\n",
    "# temp1=int(p)\n",
    "for i in range(0,len(l)):\n",
    "    if l[i] not in pl:\n",
    "        ans.append(l[i])\n",
    "        \n",
    "print(ans)        \n",
    "        \n",
    "        \n",
    "    \n",
    "    "
   ]
  },
  {
   "cell_type": "code",
   "execution_count": 37,
   "id": "82ec0abb",
   "metadata": {},
   "outputs": [
    {
     "name": "stdout",
     "output_type": "stream",
     "text": [
      "plz enter the positive no.:123\n",
      "expected output: 444\n"
     ]
    }
   ],
   "source": [
    "# q5 reverse and palindrome\n",
    "p=(input(\"plz enter the positive no.:\"))\n",
    "s=int(p)\n",
    "temp1=int(p)\n",
    "\n",
    "while(str(s)!=str(s)[::-1]):\n",
    "\n",
    "    s=str(temp1)[::-1]\n",
    "    s=str(int(p)+int(s))\n",
    "    s,temp1=temp1,s\n",
    "    \n",
    "        \n",
    "print(\"expected output:\",s)    \n",
    "    "
   ]
  },
  {
   "cell_type": "code",
   "execution_count": 4,
   "id": "165ba1d1",
   "metadata": {},
   "outputs": [
    {
     "name": "stdout",
     "output_type": "stream",
     "text": [
      "enter x1,y1,r1: 1,2,3\n",
      "enter x2,y2,r2: 4,5,6\n",
      "c1 and c2 intersect\n"
     ]
    }
   ],
   "source": [
    "# q6 circles\n",
    "import math\n",
    "c11=[]\n",
    "c1=input(\"enter x1,y1,r1: \")\n",
    "c11=c1.split(\",\")\n",
    "c22=[]\n",
    "c2=input(\"enter x2,y2,r2: \")\n",
    "c22=c2.split(\",\")\n",
    "d=math.sqrt((int(c11[0])-int(c22[0]))**2 + (int(c11[1])-int(c22[1]))**2 )\n",
    "if d<=int(c11[2])-int(c22[2]):\n",
    "    print(\"c2 inside c1\")\n",
    "elif d<=int(c22[2])-int(c11[2]):\n",
    "    print(\"c1 inside c2\")\n",
    "elif d<int(c11[2])+int(c22[2]):\n",
    "    print(\"c1 and c2 intersect\")\n",
    "elif d==int(c11[2])+int(c22[2]):\n",
    "    print(\"c1 and c2 touch each other\")\n",
    "else:\n",
    "    print(\"none\")\n",
    "    "
   ]
  },
  {
   "cell_type": "code",
   "execution_count": 3,
   "id": "a1741187",
   "metadata": {},
   "outputs": [
    {
     "name": "stdout",
     "output_type": "stream",
     "text": [
      "Input month and date (separated by a single space):\n",
      "6 26\n",
      "Name of the date:  Sunday\n"
     ]
    }
   ],
   "source": [
    "# q7.accept date and print day of the date\n",
    "from datetime import date\n",
    "print(\"Input month and date (separated by a single space):\")\n",
    "m, d = map(int, input().split())\n",
    "weeks = {1:'Monday',2:'Tuesday',3:'Wednesday',4:'Thursday',5:'Friday',6:'Saturday',7:'Sunday'}\n",
    "w = date.isoweekday(date(2016, m, d))\n",
    "print(\"Name of the date: \",weeks[w])"
   ]
  },
  {
   "cell_type": "code",
   "execution_count": 5,
   "id": "325a70d7",
   "metadata": {},
   "outputs": [
    {
     "name": "stdout",
     "output_type": "stream",
     "text": [
      "enter the point x1,y1 of triangle:1,2\n",
      "enter the point x2,y2 of triangle:3,4\n",
      "enter the point x3,y3 of triangle:5,6\n",
      "enter the point x,y:1,2\n",
      "point inside the triangle\n"
     ]
    }
   ],
   "source": [
    "# q8 check whether a point inside a triangle or not\n",
    "def areaOfTriangle(x1,y1,x2,y2,x3,y3):\n",
    "    Area = abs((x1 * (y2 - y3) + x2 * (y3 - y1)\n",
    "\t\t\t\t+ x3 * (y1 - y2)) / 2.0)\n",
    "    return Area\n",
    "p1=[]\n",
    "po=input(\"enter the point x1,y1 of triangle:\")\n",
    "p1=po.split(\",\")\n",
    "p2=[]\n",
    "po=input(\"enter the point x2,y2 of triangle:\")\n",
    "p2=po.split(\",\")\n",
    "p3=[]\n",
    "po=input(\"enter the point x3,y3 of triangle:\")\n",
    "p3=po.split(\",\")\n",
    "p4=[]\n",
    "po=input(\"enter the point x,y:\")\n",
    "p4=po.split(\",\")\n",
    "a1=areaOfTriangle(int(p1[0]),int(p1[1]),int(p2[0]),int(p2[1]),int(p4[0]),int(p4[1]))\n",
    "a2=areaOfTriangle(int(p3[0]),int(p3[1]),int(p2[0]),int(p2[1]),int(p4[0]),int(p4[1]))\n",
    "a3=areaOfTriangle(int(p1[0]),int(p1[1]),int(p3[0]),int(p3[1]),int(p4[0]),int(p4[1]))\n",
    "a4=areaOfTriangle(int(p1[0]),int(p1[1]),int(p2[0]),int(p2[1]),int(p3[0]),int(p3[1]))\n",
    "if a1+a2+a3==a4:\n",
    "    print(\"point inside the triangle\")\n",
    "else:\n",
    "    print(\"point outside triangle\")\n",
    "\n",
    "\n"
   ]
  },
  {
   "cell_type": "code",
   "execution_count": 5,
   "id": "5a70d78c",
   "metadata": {},
   "outputs": [
    {
     "name": "stdout",
     "output_type": "stream",
     "text": [
      "[1, 4, 5]\n"
     ]
    }
   ],
   "source": [
    "# 4\n",
    "def absent_digits(n):\n",
    "  all_nums = set([0,1,2,3,4,5,6,7,8,9])\n",
    "  n = set([int(i) for i in n])\n",
    "  n = n.symmetric_difference(all_nums)\n",
    "  n = sorted(n)\n",
    "  return n\n",
    "print(absent_digits([9,8,3,2,2,0,9,7,6,3]))"
   ]
  },
  {
   "cell_type": "code",
   "execution_count": null,
   "id": "c103742f",
   "metadata": {},
   "outputs": [],
   "source": []
  }
 ],
 "metadata": {
  "kernelspec": {
   "display_name": "Python 3 (ipykernel)",
   "language": "python",
   "name": "python3"
  },
  "language_info": {
   "codemirror_mode": {
    "name": "ipython",
    "version": 3
   },
   "file_extension": ".py",
   "mimetype": "text/x-python",
   "name": "python",
   "nbconvert_exporter": "python",
   "pygments_lexer": "ipython3",
   "version": "3.10.2"
  }
 },
 "nbformat": 4,
 "nbformat_minor": 5
}
