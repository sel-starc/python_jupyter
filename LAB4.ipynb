{
 "cells": [
  {
   "cell_type": "code",
   "execution_count": 3,
   "id": "337af02f",
   "metadata": {},
   "outputs": [
    {
     "name": "stdout",
     "output_type": "stream",
     "text": [
      "('shweta',)\n"
     ]
    }
   ],
   "source": [
    "# tuple unchangeable list, item can't be changed unlike list, tuple like list allows duplicate elements\n",
    "thisTuple=(\"shweta\",)\n",
    "print(thisTuple)\n"
   ]
  },
  {
   "cell_type": "code",
   "execution_count": 7,
   "id": "e43514e4",
   "metadata": {},
   "outputs": [
    {
     "name": "stdout",
     "output_type": "stream",
     "text": [
      "('raj', 'shivee', 1378)\n",
      "hv\n",
      "('shweta', 616, 'raj', 'shivee', 1378)\n",
      "('raj', 'shivee', 1378, 'hv', 232)\n"
     ]
    }
   ],
   "source": [
    "thisTuple=(\"shweta\",616,\"raj\",\"shivee\",1378,\"hv\",232)\n",
    "print(thisTuple[2:5])\n",
    "print(thisTuple[-2])\n",
    "print(thisTuple[:5])\n",
    "print(thisTuple[2:])\n"
   ]
  },
  {
   "cell_type": "code",
   "execution_count": 8,
   "id": "06ae71c2",
   "metadata": {},
   "outputs": [
    {
     "name": "stdout",
     "output_type": "stream",
     "text": [
      "yes that bitch is there\n"
     ]
    }
   ],
   "source": [
    "if \"hv\" in thisTuple:\n",
    "    print(\"yes that bitch is there\")"
   ]
  },
  {
   "cell_type": "code",
   "execution_count": 9,
   "id": "b7ce18e3",
   "metadata": {},
   "outputs": [
    {
     "name": "stdout",
     "output_type": "stream",
     "text": [
      "('raj', 'shivee', 1378)\n"
     ]
    }
   ],
   "source": [
    "print(thisTuple[-5:-2])"
   ]
  },
  {
   "cell_type": "code",
   "execution_count": 11,
   "id": "8d881785",
   "metadata": {},
   "outputs": [
    {
     "name": "stdout",
     "output_type": "stream",
     "text": [
      "('I', 'love', 'you', 'kid')\n"
     ]
    }
   ],
   "source": [
    "# u can alter tuple by converting it into list\n",
    "x=(\"I\",\"hate\",\"you\",\"kid\")\n",
    "y=list(x)\n",
    "y[1]=\"love\"\n",
    "x=tuple(y)\n",
    "print(x)"
   ]
  },
  {
   "cell_type": "code",
   "execution_count": 12,
   "id": "399554ec",
   "metadata": {},
   "outputs": [
    {
     "name": "stdout",
     "output_type": "stream",
     "text": [
      "('I', 'love', 'you', 'kid', 'bruh')\n"
     ]
    }
   ],
   "source": [
    "# you can append new elements in the tuple itself\n",
    "y1=(\"bruh\",)\n",
    "x+=y1\n",
    "print(x)"
   ]
  },
  {
   "cell_type": "code",
   "execution_count": 14,
   "id": "1c35aa01",
   "metadata": {},
   "outputs": [
    {
     "name": "stdout",
     "output_type": "stream",
     "text": [
      "('I', 'love', 'you')\n"
     ]
    }
   ],
   "source": [
    "# you can remove elements from tuple by converting into list\n",
    "y.remove(\"kid\")\n",
    "x=tuple(y)\n",
    "print(x)"
   ]
  },
  {
   "cell_type": "code",
   "execution_count": 4,
   "id": "5edff24d",
   "metadata": {},
   "outputs": [
    {
     "name": "stdout",
     "output_type": "stream",
     "text": [
      "enter the no. of strings: 2\n",
      "enter the string:maam\n",
      "enter the string:ms\n",
      "maam  is palindrome\n",
      "ms  is not palindrome\n",
      "1 not palindrome\n"
     ]
    }
   ],
   "source": [
    "# q1. check whether strings are plaindrome or not\n",
    "str=(\" \",)\n",
    "n=int(input(\"enter the no. of strings: \"))\n",
    "for i in range(1,n+1):\n",
    "    str1=input(\"enter the string:\")\n",
    "    str2=(str1,)\n",
    "    str+=str2\n",
    "f=0  \n",
    "temp=\"\"\n",
    "for i in range (1,n+1):\n",
    "#     for j in range (0,len(str[i])):\n",
    "#         l=int(len(str[i]))\n",
    "        temp=str[i][::-1]\n",
    "        if temp!=str[i]:\n",
    "            f=f+1\n",
    "            print(str[i],\" is not palindrome\")\n",
    "        else:print(str[i],\" is palindrome\")    \n",
    "print(f,\"not palindrome\")            \n",
    "    "
   ]
  },
  {
   "cell_type": "code",
   "execution_count": 3,
   "id": "7286dc4d",
   "metadata": {},
   "outputs": [
    {
     "name": "stdout",
     "output_type": "stream",
     "text": [
      "enter the no. of strings: 3\n",
      "enter the string:shwettaaa\n",
      "enter the string:rajj\n",
      "enter the string:akkkkkk\n",
      "enter the string:dd\n",
      "enter the prefix:sh\n",
      "rajj  does not contain  the prefix\n",
      "akkkkkk  does not contain  the prefix\n",
      "2  does not contain the prefix\n"
     ]
    }
   ],
   "source": [
    "# q2. check whether strings starts with given prefix\n",
    "str=[]\n",
    "n=int(input(\"enter the no. of strings: \"))\n",
    "for i in range(0,n):\n",
    "    str1=input(\"enter the string:\")\n",
    "    str.append(str1)\n",
    "    \n",
    "pre=input(\"enter the prefix:\")  \n",
    "l=int(len(pre))\n",
    "f=0  \n",
    "\n",
    "for i in range (1,n):\n",
    "\n",
    "        \n",
    "        \n",
    "        if pre not in str[i][0:l]:\n",
    "            f=f+1\n",
    "            print(str[i],\" does not contain  the prefix\")\n",
    "print(f,\" does not contain the prefix\")  "
   ]
  },
  {
   "cell_type": "code",
   "execution_count": 2,
   "id": "5c306365",
   "metadata": {},
   "outputs": [
    {
     "name": "stdout",
     "output_type": "stream",
     "text": [
      "enter the no. of strings: 3\n",
      "enter the string:shwetaa\n",
      "enter the string:shw\n",
      "enter the string:dff\n",
      "shwetaa  is the longest word 7\n"
     ]
    }
   ],
   "source": [
    "# q3. check whether strings starts with given prefix\n",
    "str=[]\n",
    "n=int(input(\"enter the no. of strings: \"))\n",
    "for i in range(0,n):\n",
    "    str1=input(\"enter the string:\")\n",
    "    \n",
    "    str.append(str1)\n",
    "\n",
    "f=0  \n",
    "m=100\n",
    "for i in range (0,n):\n",
    "        l=int(len(str[i]))\n",
    "        if f<l:\n",
    "            f=l\n",
    "            m=i\n",
    "            \n",
    "print(str[m],\" is the longest word\",f) "
   ]
  },
  {
   "cell_type": "code",
   "execution_count": 3,
   "id": "bdf34c92",
   "metadata": {},
   "outputs": [
    {
     "name": "stdout",
     "output_type": "stream",
     "text": [
      "enter the no. of strings: 3\n",
      "enter the string:shwety\n",
      "enter the string:wetash\n",
      "enter the string:rak\n",
      "enter the substring:sh\n",
      "shwety  does contain  the substring\n",
      "wetash  does contain  the substring\n",
      "rak  does not contain  the substring\n",
      "1  does not contain the substring\n"
     ]
    }
   ],
   "source": [
    "# q4. check whether strings contains a substring\n",
    "str=[]\n",
    "n=int(input(\"enter the no. of strings: \"))\n",
    "for i in range(0,n):\n",
    "    str1=input(\"enter the string:\")\n",
    "    str.append(str1)\n",
    "    \n",
    "pre=input(\"enter the substring:\")  \n",
    "l=int(len(pre))\n",
    "f=0  \n",
    "\n",
    "for i in range (0,n):\n",
    "\n",
    "        \n",
    "        \n",
    "        if pre not in str[i]:\n",
    "            f=f+1\n",
    "            print(str[i],\" does not contain  the substring\")\n",
    "        else:print(str[i],\" does contain  the substring\")  \n",
    "print(f,\" does not contain the substring\")  "
   ]
  },
  {
   "cell_type": "code",
   "execution_count": null,
   "id": "9ed34afd",
   "metadata": {},
   "outputs": [],
   "source": [
    "# q5. XOR of two string after converting into binary\n",
    "str=[]\n",
    "\n",
    "for i in range(0,2):\n",
    "    str1=input(\"enter the string:\")\n",
    "    str.append(str1)\n",
    "    \n",
    "pre=input(\"enter the substring:\")  \n",
    "l=int(len(pre))\n",
    "f=0  \n"
   ]
  },
  {
   "cell_type": "code",
   "execution_count": null,
   "id": "e69e7171",
   "metadata": {},
   "outputs": [],
   "source": []
  },
  {
   "cell_type": "code",
   "execution_count": 7,
   "id": "a215a84b",
   "metadata": {},
   "outputs": [
    {
     "name": "stdout",
     "output_type": "stream",
     "text": [
      "Enter string 1 :101\n",
      "Enter string 2 :110\n",
      "11\n"
     ]
    }
   ],
   "source": [
    "#ques5\n",
    "import math\n",
    "# str3=[]\n",
    "str1=input(\"Enter string 1 :\")\n",
    "str2=input(\"Enter string 2 :\")\n",
    "\n",
    "m=int((str1))\n",
    "n=int((str2))\n",
    "str3=m^n\n",
    "print(str3)"
   ]
  },
  {
   "cell_type": "code",
   "execution_count": 2,
   "id": "0756c504",
   "metadata": {},
   "outputs": [
    {
     "name": "stdout",
     "output_type": "stream",
     "text": [
      "enter the sides:3\n",
      "enter the sides:4\n",
      "enter the sides:5\n",
      "Sides of the triangle: [3, 4, 5]\n",
      "Coordinates of a triangle with the said side lengths:\n",
      "[[0.0, 0.0], [3, 0.0], [1.4142135623730951, 4.0]]\n"
     ]
    }
   ],
   "source": [
    "#6\n",
    "def test(sides):\n",
    "   a, b, c = sorted(sides)\n",
    "   s = sum(sides) / 2 \n",
    "   area = (s * (s - a) * (s - b) * (s - c)) ** 0.5  \n",
    "   y = 2 * area / a\n",
    "   x = (c * 2 - y * 2) ** 0.5\n",
    "   return [[0.0, 0.0], [a, 0.0], [x, y]]\n",
    "\n",
    "sides=[]\n",
    "for i in range(0,3):\n",
    "    str1=int(input(\"enter the sides:\"))\n",
    "    sides.append(str1)\n",
    "# sides = [3, 4, 5]\n",
    "print(\"Sides of the triangle:\",sides)\n",
    "print(\"Coordinates of a triangle with the said side lengths:\")\n",
    "print(test(sides))"
   ]
  },
  {
   "cell_type": "code",
   "execution_count": null,
   "id": "6c2224e4",
   "metadata": {},
   "outputs": [],
   "source": []
  },
  {
   "cell_type": "code",
   "execution_count": 1,
   "id": "1687d1aa",
   "metadata": {},
   "outputs": [
    {
     "name": "stdout",
     "output_type": "stream",
     "text": [
      "enter the no. of strings: 4\n",
      "enter the string:shweta\n",
      "enter the string:raja\n",
      "enter the string:nopse\n",
      "enter the string:bibib\n",
      "['raja', 'shweta']  is the even list\n"
     ]
    }
   ],
   "source": [
    "# q7. check whether strings of even length and sorted\n",
    "str=[]\n",
    "str2=[]\n",
    "n=int(input(\"enter the no. of strings: \"))\n",
    "for i in range(0,n):\n",
    "    str1=input(\"enter the string:\")\n",
    "    \n",
    "    str.append(str1)\n",
    "\n",
    "f=0  \n",
    "m=100\n",
    "for i in range (0,n):\n",
    "        l=int(len(str[i]))\n",
    "        if l%2==0:\n",
    "            str2.append(str[i])\n",
    "            m=i\n",
    "str2.sort(key=len)           \n",
    "print(str2,\" is the even list\") "
   ]
  },
  {
   "cell_type": "code",
   "execution_count": null,
   "id": "bdb9e658",
   "metadata": {},
   "outputs": [],
   "source": []
  },
  {
   "cell_type": "code",
   "execution_count": null,
   "id": "1ee22255",
   "metadata": {},
   "outputs": [],
   "source": []
  },
  {
   "cell_type": "code",
   "execution_count": null,
   "id": "1455c209",
   "metadata": {},
   "outputs": [],
   "source": []
  }
 ],
 "metadata": {
  "kernelspec": {
   "display_name": "Python 3 (ipykernel)",
   "language": "python",
   "name": "python3"
  },
  "language_info": {
   "codemirror_mode": {
    "name": "ipython",
    "version": 3
   },
   "file_extension": ".py",
   "mimetype": "text/x-python",
   "name": "python",
   "nbconvert_exporter": "python",
   "pygments_lexer": "ipython3",
   "version": "3.10.2"
  }
 },
 "nbformat": 4,
 "nbformat_minor": 5
}
